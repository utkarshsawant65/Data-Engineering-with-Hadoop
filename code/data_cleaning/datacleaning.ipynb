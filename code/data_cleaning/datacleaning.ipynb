{
 "cells": [
  {
   "cell_type": "code",
   "execution_count": null,
   "metadata": {},
   "outputs": [],
   "source": [
    "import pandas as pd\n",
    "import numpy as np\n",
    "\n",
    "# Load the original CSV file\n",
    "file_path = 'path_to_your_file/propertydata.csv'\n",
    "data = pd.read_csv(file_path)\n",
    "\n",
    "# 1. Remove rows with null values\n",
    "data = data.dropna().copy()\n",
    "\n",
    "# 2. Check and remove duplicate 'Serial Number' values\n",
    "data = data.drop_duplicates(subset=['Serial Number'], keep=False)\n",
    "\n",
    "# 4. Convert 'Assessed Value' and 'Sale Amount' columns to integer values\n",
    "data['Assessed Value'] = data['Assessed Value'].replace('[\\$,]', '', regex=True).astype(float).astype(int)\n",
    "data['Sale Amount'] = data['Sale Amount'].replace('[\\$,]', '', regex=True).astype(float).astype(int)\n",
    "\n",
    "# 5. Round the 'Sales Ratio' column to 2 decimal points and ensure all values have 2 decimal points\n",
    "data['Sales Ratio'] = data['Sales Ratio'].apply(lambda x: f\"{x:.2f}\")\n",
    "\n",
    "# Save the updated data to a new CSV file\n",
    "final_file_path = 'path_to_your_file/propertydata_final_no_location.csv'\n",
    "data.to_csv(final_file_path, index=False)\n",
    "\n",
    "print(\"Final Property Data with all transformations:\")\n",
    "print(data.head())\n",
    "\n",
    "# Load the updated property data CSV\n",
    "property_data = pd.read_csv(final_file_path)\n",
    "\n",
    "# Extract unique property types\n",
    "unique_property_types = property_data['Property Type'].unique()\n",
    "\n",
    "# Map the property type to PropertyTypeID in the property data\n",
    "property_data['PropertyTypeID'] = property_data['Property Type'].map(property_type_mapping)\n",
    "\n",
    "# Reorder columns to place PropertyTypeID after Property Type\n",
    "columns = [\n",
    "    'Serial Number', 'List Year', 'Town', 'Address', 'Assessed Value', \n",
    "    'Sale Amount', 'Sales Ratio', 'Property Type', 'PropertyTypeID', 'Residential Type'\n",
    "]\n",
    "property_data = property_data[columns]\n",
    "\n",
    "# Save the updated DataFrame to a new CSV file\n",
    "updated_property_csv_path = 'path_to_your_file/updated_propertydata_with_ids.csv'\n",
    "property_data.to_csv(updated_property_csv_path, index=False)\n",
    "\n",
    "print(f\"Updated property data saved to {updated_property_csv_path}\")\n",
    "\n",
    "# Load the updated property data CSV\n",
    "property_data = pd.read_csv(updated_property_csv_path)\n",
    "\n",
    "# Extract unique towns and assign unique IDs\n",
    "unique_towns = property_data['Town'].unique()\n",
    "town_mapping = {town: idx + 1 for idx, town in enumerate(unique_towns)}\n",
    "\n",
    "# Map the town to TownID in the property data\n",
    "property_data['TownID'] = property_data['Town'].map(town_mapping)\n",
    "\n",
    "# Reorder columns to place TownID next to Town\n",
    "columns = [\n",
    "    'Serial Number', 'List Year', 'Town', 'TownID', 'Address', 'Assessed Value', \n",
    "    'Sale Amount', 'Sales Ratio', 'Property Type', 'PropertyTypeID', 'Residential Type'\n",
    "]\n",
    "property_data = property_data[columns]\n",
    "\n",
    "# Save the updated DataFrame to a new CSV file\n",
    "updated_property_with_town_id_csv_path = 'path_to_your_file/updated_propertydata_with_town_ids.csv'\n",
    "property_data.to_csv(updated_property_with_town_id_csv_path, index=False)\n",
    "\n",
    "print(f\"Updated property data saved to {updated_property_with_town_id_csv_path}\")"
   ]
  },
  {
   "cell_type": "code",
   "execution_count": 3,
   "metadata": {},
   "outputs": [
    {
     "name": "stdout",
     "output_type": "stream",
     "text": [
      "Updated retail store data saved to updated_retailstore.csv\n"
     ]
    }
   ],
   "source": [
    "import pandas as pd\n",
    "\n",
    "# Load the provided CSV files\n",
    "property_data = pd.read_csv('propertydata.csv')\n",
    "retail_store_data = pd.read_csv('retailstore.csv')\n",
    "\n",
    "# Apply the mapping to the retail store data\n",
    "retail_store_data['TownID'] = retail_store_data['Town'].map(town_to_townid_mapping)\n",
    "\n",
    "# Save the updated retail store data to a new CSV file\n",
    "updated_retail_store_csv_path = 'updated_retailstore.csv'\n",
    "retail_store_data.to_csv(updated_retail_store_csv_path, index=False)\n",
    "\n",
    "print(f\"Updated retail store data saved to {updated_retail_store_csv_path}\")\n"
   ]
  },
  {
   "cell_type": "code",
   "execution_count": 8,
   "metadata": {},
   "outputs": [
    {
     "name": "stdout",
     "output_type": "stream",
     "text": [
      "Reordered crimes data saved to reordered_crimes_data.csv\n"
     ]
    }
   ],
   "source": [
    "import pandas as pd\n",
    "\n",
    "# Load the cleaned crimes data CSV file\n",
    "file_path = 'cleaned_crimes_data.csv'\n",
    "crimes_data = pd.read_csv(file_path)\n",
    "\n",
    "\n",
    "# Reorder the columns\n",
    "crimes_data_reordered = crimes_data[columns]\n",
    "\n",
    "# Save the updated data to a new CSV file\n",
    "reordered_crimes_csv_path = 'reordered_crimes_data.csv'\n",
    "crimes_data_reordered.to_csv(reordered_crimes_csv_path, index=False)\n",
    "\n",
    "print(f\"Reordered crimes data saved to {reordered_crimes_csv_path}\")"
   ]
  },
  {
   "cell_type": "code",
   "execution_count": 9,
   "metadata": {},
   "outputs": [
    {
     "name": "stdout",
     "output_type": "stream",
     "text": [
      "Common TownIDs: {1, 2, 3, 4, 5, 6, 7, 8, 9, 10, 11, 12, 13, 14, 15, 16, 17, 18, 19, 20, 21, 22, 23, 24, 25, 26, 27, 28, 29, 30, 31, 32, 33, 34, 35, 36, 37, 38, 39, 40, 41, 42, 43, 44, 45, 46, 47, 48, 49, 50, 51}\n",
      "TownIDs only in Crimes Data: {52, 53, 54, 55, 56, 57, 58, 59, 60, 61, 62, 63, 64, 65, 66, 67, 68, 69, 70, 71, 72, 73, 74, 75, 76, 77, 78, 79, 80, 81, 82, 83, 84}\n",
      "TownIDs only in Property Data: {52, 53, 54, 55, 56, 57, 58, 59, 60, 61, 62, 63, 64, 65, 66, 67, 68, 69, 70, 71, 72, 73, 74, 75, 76, 77, 78, 79, 80, 81, 82, 83, 84}\n",
      "TownIDs only in Retail Store Data: set()\n"
     ]
    }
   ],
   "source": [
    "import pandas as pd\n",
    "\n",
    "# Load the provided CSV files\n",
    "crimes_data = pd.read_csv('crimedata.csv')\n",
    "property_data = pd.read_csv('propertydata.csv')\n",
    "retail_store_data = pd.read_csv('retailstore.csv')\n",
    "\n",
    "# Check for the presence of TownID column in all files\n",
    "df(1)\n",
    "    'TownID' in crimes_data.columns and 'TownID' in property_data.columns and 'TownID' in retail_store_data.columns:\n",
    "    # Get unique TownID values from each file\n",
    "    crimes_town_ids = set(crimes_data['TownID'].unique())\n",
    "    property_town_ids = set(property_data['TownID'].unique())\n",
    "    retail_store_town_ids = set(retail_store_data['TownID'].unique())\n",
    "    \n",
    "    # Find common TownIDs across all files\n",
    "    common_town_ids = crimes_town_ids & property_town_ids & retail_store_town_ids\n",
    "\n",
    "\n",
    "    print(\"Common TownIDs:\", common_town_ids)\n",
    "    print(\"TownIDs only in Crimes Data:\", crimes_only)\n",
    "    print(\"TownIDs only in Property Data:\", property_only)\n",
    "    print(\"TownIDs only in Retail Store Data:\", retail_store_only)\n",
    "\n",
    "df=1\n"
   ]
  },
  {
   "cell_type": "code",
   "execution_count": 17,
   "metadata": {},
   "outputs": [
    {
     "name": "stdout",
     "output_type": "stream",
     "text": [
      "Updated retail store data saved to updated_retailstore.csv\n"
     ]
    }
   ],
   "source": [
    "import pandas as pd\n",
    "\n",
    "# Load the provided CSV file\n",
    "file_path = 'retailstore.csv'\n",
    "retail_store_data = pd.read_csv(file_path)\n",
    "\n",
    "# Define the mapping for the Store Name\n",
    "store_name_mapping = {\n",
    "    'Albertsons': 'A',\n",
    "    'HEB': 'B',\n",
    "    'Costco': 'C',\n",
    "    'Aldi': 'D'\n",
    "}\n",
    "\n",
    "# Apply the mapping to the Store Name column\n",
    "retail_store_data['Store Name'] = retail_store_data['Store Name'].map(store_name_mapping)\n",
    "\n",
    "# Drop the Street Name column\n",
    "retail_store_data.drop(columns=['Street Name'], inplace=True)\n",
    "\n",
    "# Reorder the columns\n",
    "retail_store_data = retail_store_data[columns]\n",
    "\n",
    "# Save the updated data to a new CSV file\n",
    "updated_retail_store_csv_path = 'updated_retailstore.csv'\n",
    "retail_store_data.to_csv(updated_retail_store_csv_path, index=False)\n",
    "\n",
    "print(f\"Updated retail store data saved to {updated_retail_store_csv_path}\")\n"
   ]
  }
 ],
 "metadata": {
  "kernelspec": {
   "display_name": "machinelearning",
   "language": "python",
   "name": "python3"
  },
  "language_info": {
   "codemirror_mode": {
    "name": "ipython",
    "version": 3
   },
   "file_extension": ".py",
   "mimetype": "text/x-python",
   "name": "python",
   "nbconvert_exporter": "python",
   "pygments_lexer": "ipython3",
   "version": "3.10.14"
  }
 },
 "nbformat": 4,
 "nbformat_minor": 2
}
